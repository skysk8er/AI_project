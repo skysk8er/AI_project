{
 "cells": [
  {
   "cell_type": "code",
   "execution_count": 55,
   "metadata": {},
   "outputs": [
    {
     "data": {
      "text/plain": [
       "CustomerID                    int64\n",
       "ProdTaken                     int64\n",
       "Age                         float64\n",
       "TypeofContact                object\n",
       "CityTier                      int64\n",
       "DurationOfPitch             float64\n",
       "Occupation                   object\n",
       "Gender                       object\n",
       "NumberOfPersonVisiting        int64\n",
       "NumberOfFollowups           float64\n",
       "ProductPitched               object\n",
       "PreferredPropertyStar       float64\n",
       "MaritalStatus                object\n",
       "NumberOfTrips               float64\n",
       "Passport                      int64\n",
       "PitchSatisfactionScore        int64\n",
       "OwnCar                        int64\n",
       "NumberOfChildrenVisiting    float64\n",
       "Designation                  object\n",
       "MonthlyIncome               float64\n",
       "dtype: object"
      ]
     },
     "execution_count": 55,
     "metadata": {},
     "output_type": "execute_result"
    }
   ],
   "source": [
    "import pandas as pd\n",
    "import numpy as np\n",
    "from sklearn.preprocessing import LabelEncoder\n",
    "from sklearn.model_selection import train_test_split\n",
    "from sklearn.linear_model import LogisticRegression\n",
    "from sklearn.ensemble import RandomForestClassifier\n",
    "from sklearn.metrics import f1_score, accuracy_score\n",
    "df=pd.read_csv('./Travel.csv')\n",
    "df.describe()\n",
    "df.dtypes"
   ]
  },
  {
   "cell_type": "code",
   "execution_count": 35,
   "metadata": {},
   "outputs": [
    {
     "data": {
      "text/plain": [
       "ProdTaken                   0\n",
       "Age                         0\n",
       "TypeofContact               0\n",
       "CityTier                    0\n",
       "DurationOfPitch             0\n",
       "Occupation                  0\n",
       "Gender                      0\n",
       "NumberOfPersonVisiting      0\n",
       "NumberOfFollowups           0\n",
       "ProductPitched              0\n",
       "PreferredPropertyStar       0\n",
       "MaritalStatus               0\n",
       "NumberOfTrips               0\n",
       "Passport                    0\n",
       "PitchSatisfactionScore      0\n",
       "OwnCar                      0\n",
       "NumberOfChildrenVisiting    0\n",
       "Designation                 0\n",
       "MonthlyIncome               0\n",
       "dtype: int64"
      ]
     },
     "execution_count": 35,
     "metadata": {},
     "output_type": "execute_result"
    }
   ],
   "source": [
    "data=df.dropna(axis=0)\n",
    "data=data.drop(['CustomerID'],axis=1)\n",
    "pd.isna(data).sum()\n",
    "\n"
   ]
  },
  {
   "cell_type": "code",
   "execution_count": 57,
   "metadata": {},
   "outputs": [
    {
     "name": "stderr",
     "output_type": "stream",
     "text": [
      "C:\\Users\\jun\\anaconda3\\lib\\site-packages\\sklearn\\linear_model\\_logistic.py:763: ConvergenceWarning: lbfgs failed to converge (status=1):\n",
      "STOP: TOTAL NO. of ITERATIONS REACHED LIMIT.\n",
      "\n",
      "Increase the number of iterations (max_iter) or scale the data as shown in:\n",
      "    https://scikit-learn.org/stable/modules/preprocessing.html\n",
      "Please also refer to the documentation for alternative solver options:\n",
      "    https://scikit-learn.org/stable/modules/linear_model.html#logistic-regression\n",
      "  n_iter_i = _check_optimize_result(\n"
     ]
    },
    {
     "data": {
      "text/plain": [
       "0.9467312348668281"
      ]
     },
     "execution_count": 57,
     "metadata": {},
     "output_type": "execute_result"
    }
   ],
   "source": [
    "for i in data.columns:\n",
    "    if data[i].dtype=='object':\n",
    "        encoder=LabelEncoder()\n",
    "        encoded=encoder.fit_transform(data[i])\n",
    "        data[i]=encoded\n",
    "\n",
    "x_train,x_valid,y_train,y_valid=train_test_split(data,data['ProdTaken'],test_size=0.2,shuffle=True,stratify=data['ProdTaken'],train_size=0.8)\n",
    "model=LogisticRegression()\n",
    "model.fit(x_train,y_train)\n",
    "pred=model.predict(x_valid)\n",
    "accuracy_score(pred,y_valid)"
   ]
  },
  {
   "cell_type": "code",
   "execution_count": 58,
   "metadata": {},
   "outputs": [
    {
     "data": {
      "text/plain": [
       "1.0"
      ]
     },
     "execution_count": 58,
     "metadata": {},
     "output_type": "execute_result"
    }
   ],
   "source": [
    "forest=RandomForestClassifier()\n",
    "forest.fit(x_train,y_train)\n",
    "pred=forest.predict(x_valid)\n",
    "accuracy_score(pred,y_valid)"
   ]
  }
 ],
 "metadata": {
  "interpreter": {
   "hash": "9912408204a4f12f6588c4b05fbae185b4eb4acae039a0821c5e537022af1e47"
  },
  "kernelspec": {
   "display_name": "Python 3.8.8 64-bit ('base': conda)",
   "language": "python",
   "name": "python3"
  },
  "language_info": {
   "codemirror_mode": {
    "name": "ipython",
    "version": 3
   },
   "file_extension": ".py",
   "mimetype": "text/x-python",
   "name": "python",
   "nbconvert_exporter": "python",
   "pygments_lexer": "ipython3",
   "version": "3.8.8"
  },
  "orig_nbformat": 4
 },
 "nbformat": 4,
 "nbformat_minor": 2
}
